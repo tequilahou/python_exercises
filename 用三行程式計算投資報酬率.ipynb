{
  "nbformat": 4,
  "nbformat_minor": 0,
  "metadata": {
    "colab": {
      "name": "用三行程式計算投資報酬率.ipynb",
      "provenance": [],
      "collapsed_sections": [],
      "authorship_tag": "ABX9TyO7nb5Bap8/h7GCZUt2qxOA",
      "include_colab_link": true
    },
    "kernelspec": {
      "name": "python3",
      "display_name": "Python 3"
    }
  },
  "cells": [
    {
      "cell_type": "markdown",
      "metadata": {
        "id": "view-in-github",
        "colab_type": "text"
      },
      "source": [
        "<a href=\"https://colab.research.google.com/github/tequilahou/python_exercises/blob/master/%E7%94%A8%E4%B8%89%E8%A1%8C%E7%A8%8B%E5%BC%8F%E8%A8%88%E7%AE%97%E6%8A%95%E8%B3%87%E5%A0%B1%E9%85%AC%E7%8E%87.ipynb\" target=\"_parent\"><img src=\"https://colab.research.google.com/assets/colab-badge.svg\" alt=\"Open In Colab\"/></a>"
      ]
    },
    {
      "cell_type": "code",
      "metadata": {
        "id": "L1QQgaqLm4ss",
        "colab_type": "code",
        "colab": {}
      },
      "source": [
        "##用三行程式計算投資報酬率"
      ],
      "execution_count": 0,
      "outputs": []
    },
    {
      "cell_type": "code",
      "metadata": {
        "id": "oeNh-JgRlVpc",
        "colab_type": "code",
        "colab": {
          "base_uri": "https://localhost:8080/",
          "height": 70
        },
        "outputId": "1328c05e-60bd-4387-f7b3-3cf341cfb95a"
      },
      "source": [
        "import pandas_datareader.data as web"
      ],
      "execution_count": 1,
      "outputs": [
        {
          "output_type": "stream",
          "text": [
            "/usr/local/lib/python3.6/dist-packages/pandas_datareader/compat/__init__.py:7: FutureWarning: pandas.util.testing is deprecated. Use the functions in the public API at pandas.testing instead.\n",
            "  from pandas.util.testing import assert_frame_equal\n"
          ],
          "name": "stderr"
        }
      ]
    },
    {
      "cell_type": "code",
      "metadata": {
        "id": "Gzv4lVcMl8H0",
        "colab_type": "code",
        "colab": {}
      },
      "source": [
        "df = web.DataReader('2330.tw','yahoo','2019-01-01')"
      ],
      "execution_count": 0,
      "outputs": []
    },
    {
      "cell_type": "code",
      "metadata": {
        "id": "JYb-DeCbl9qW",
        "colab_type": "code",
        "colab": {
          "base_uri": "https://localhost:8080/",
          "height": 225
        },
        "outputId": "c67b72ec-d7b2-4235-ee35-9183b13623fb"
      },
      "source": [
        "df.head()"
      ],
      "execution_count": 9,
      "outputs": [
        {
          "output_type": "execute_result",
          "data": {
            "text/html": [
              "<div>\n",
              "<style scoped>\n",
              "    .dataframe tbody tr th:only-of-type {\n",
              "        vertical-align: middle;\n",
              "    }\n",
              "\n",
              "    .dataframe tbody tr th {\n",
              "        vertical-align: top;\n",
              "    }\n",
              "\n",
              "    .dataframe thead th {\n",
              "        text-align: right;\n",
              "    }\n",
              "</style>\n",
              "<table border=\"1\" class=\"dataframe\">\n",
              "  <thead>\n",
              "    <tr style=\"text-align: right;\">\n",
              "      <th></th>\n",
              "      <th>High</th>\n",
              "      <th>Low</th>\n",
              "      <th>Open</th>\n",
              "      <th>Close</th>\n",
              "      <th>Volume</th>\n",
              "      <th>Adj Close</th>\n",
              "    </tr>\n",
              "    <tr>\n",
              "      <th>Date</th>\n",
              "      <th></th>\n",
              "      <th></th>\n",
              "      <th></th>\n",
              "      <th></th>\n",
              "      <th></th>\n",
              "      <th></th>\n",
              "    </tr>\n",
              "  </thead>\n",
              "  <tbody>\n",
              "    <tr>\n",
              "      <th>2019-01-02</th>\n",
              "      <td>226.5</td>\n",
              "      <td>219.0</td>\n",
              "      <td>226.5</td>\n",
              "      <td>219.5</td>\n",
              "      <td>32900482.0</td>\n",
              "      <td>207.299652</td>\n",
              "    </tr>\n",
              "    <tr>\n",
              "      <th>2019-01-03</th>\n",
              "      <td>218.0</td>\n",
              "      <td>214.0</td>\n",
              "      <td>214.0</td>\n",
              "      <td>215.5</td>\n",
              "      <td>34087620.0</td>\n",
              "      <td>203.521988</td>\n",
              "    </tr>\n",
              "    <tr>\n",
              "      <th>2019-01-04</th>\n",
              "      <td>211.5</td>\n",
              "      <td>206.5</td>\n",
              "      <td>211.5</td>\n",
              "      <td>208.0</td>\n",
              "      <td>65943521.0</td>\n",
              "      <td>196.438858</td>\n",
              "    </tr>\n",
              "    <tr>\n",
              "      <th>2019-01-07</th>\n",
              "      <td>214.0</td>\n",
              "      <td>211.0</td>\n",
              "      <td>212.0</td>\n",
              "      <td>213.0</td>\n",
              "      <td>35442176.0</td>\n",
              "      <td>201.160965</td>\n",
              "    </tr>\n",
              "    <tr>\n",
              "      <th>2019-01-08</th>\n",
              "      <td>212.5</td>\n",
              "      <td>210.0</td>\n",
              "      <td>212.0</td>\n",
              "      <td>211.0</td>\n",
              "      <td>22694481.0</td>\n",
              "      <td>199.272125</td>\n",
              "    </tr>\n",
              "  </tbody>\n",
              "</table>\n",
              "</div>"
            ],
            "text/plain": [
              "             High    Low   Open  Close      Volume   Adj Close\n",
              "Date                                                          \n",
              "2019-01-02  226.5  219.0  226.5  219.5  32900482.0  207.299652\n",
              "2019-01-03  218.0  214.0  214.0  215.5  34087620.0  203.521988\n",
              "2019-01-04  211.5  206.5  211.5  208.0  65943521.0  196.438858\n",
              "2019-01-07  214.0  211.0  212.0  213.0  35442176.0  201.160965\n",
              "2019-01-08  212.5  210.0  212.0  211.0  22694481.0  199.272125"
            ]
          },
          "metadata": {
            "tags": []
          },
          "execution_count": 9
        }
      ]
    },
    {
      "cell_type": "code",
      "metadata": {
        "id": "9cXi5GUdmG1g",
        "colab_type": "code",
        "colab": {
          "base_uri": "https://localhost:8080/",
          "height": 34
        },
        "outputId": "59142935-9354-4b11-8163-4d40a7642105"
      },
      "source": [
        "df['Adj Close'][-1]/df['Adj Close'][0]"
      ],
      "execution_count": 11,
      "outputs": [
        {
          "output_type": "execute_result",
          "data": {
            "text/plain": [
              "1.5243633879721086"
            ]
          },
          "metadata": {
            "tags": []
          },
          "execution_count": 11
        }
      ]
    }
  ]
}