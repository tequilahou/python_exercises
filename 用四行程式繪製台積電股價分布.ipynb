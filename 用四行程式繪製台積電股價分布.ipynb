{
  "nbformat": 4,
  "nbformat_minor": 0,
  "metadata": {
    "colab": {
      "name": "用四行程式繪製台積電股價分布.ipynb",
      "provenance": [],
      "collapsed_sections": [],
      "authorship_tag": "ABX9TyNcmdTIpfn4w+o37Dea6c5A",
      "include_colab_link": true
    },
    "kernelspec": {
      "name": "python3",
      "display_name": "Python 3"
    }
  },
  "cells": [
    {
      "cell_type": "markdown",
      "metadata": {
        "id": "view-in-github",
        "colab_type": "text"
      },
      "source": [
        "<a href=\"https://colab.research.google.com/github/tequilahou/python_exercises/blob/master/%E7%94%A8%E5%9B%9B%E8%A1%8C%E7%A8%8B%E5%BC%8F%E7%B9%AA%E8%A3%BD%E5%8F%B0%E7%A9%8D%E9%9B%BB%E8%82%A1%E5%83%B9%E5%88%86%E5%B8%83.ipynb\" target=\"_parent\"><img src=\"https://colab.research.google.com/assets/colab-badge.svg\" alt=\"Open In Colab\"/></a>"
      ]
    },
    {
      "cell_type": "code",
      "metadata": {
        "id": "wdEzYOPvcEAj",
        "colab_type": "code",
        "colab": {}
      },
      "source": [
        "import pandas_datareader.data as web"
      ],
      "execution_count": 0,
      "outputs": []
    },
    {
      "cell_type": "code",
      "metadata": {
        "id": "jkjJ6AEHcV1C",
        "colab_type": "code",
        "colab": {}
      },
      "source": [
        "df = web.DataReader('2330.tw','yahoo','2019-01-01')"
      ],
      "execution_count": 0,
      "outputs": []
    },
    {
      "cell_type": "code",
      "metadata": {
        "id": "mGE20FTscn7P",
        "colab_type": "code",
        "colab": {
          "base_uri": "https://localhost:8080/",
          "height": 431
        },
        "outputId": "45dbf788-4869-4e6a-f69d-249d5d193f8b"
      },
      "source": [
        "df"
      ],
      "execution_count": 25,
      "outputs": [
        {
          "output_type": "execute_result",
          "data": {
            "text/html": [
              "<div>\n",
              "<style scoped>\n",
              "    .dataframe tbody tr th:only-of-type {\n",
              "        vertical-align: middle;\n",
              "    }\n",
              "\n",
              "    .dataframe tbody tr th {\n",
              "        vertical-align: top;\n",
              "    }\n",
              "\n",
              "    .dataframe thead th {\n",
              "        text-align: right;\n",
              "    }\n",
              "</style>\n",
              "<table border=\"1\" class=\"dataframe\">\n",
              "  <thead>\n",
              "    <tr style=\"text-align: right;\">\n",
              "      <th></th>\n",
              "      <th>High</th>\n",
              "      <th>Low</th>\n",
              "      <th>Open</th>\n",
              "      <th>Close</th>\n",
              "      <th>Volume</th>\n",
              "      <th>Adj Close</th>\n",
              "    </tr>\n",
              "    <tr>\n",
              "      <th>Date</th>\n",
              "      <th></th>\n",
              "      <th></th>\n",
              "      <th></th>\n",
              "      <th></th>\n",
              "      <th></th>\n",
              "      <th></th>\n",
              "    </tr>\n",
              "  </thead>\n",
              "  <tbody>\n",
              "    <tr>\n",
              "      <th>2019-01-02</th>\n",
              "      <td>226.5</td>\n",
              "      <td>219.0</td>\n",
              "      <td>226.5</td>\n",
              "      <td>219.5</td>\n",
              "      <td>32900482.0</td>\n",
              "      <td>207.299652</td>\n",
              "    </tr>\n",
              "    <tr>\n",
              "      <th>2019-01-03</th>\n",
              "      <td>218.0</td>\n",
              "      <td>214.0</td>\n",
              "      <td>214.0</td>\n",
              "      <td>215.5</td>\n",
              "      <td>34087620.0</td>\n",
              "      <td>203.521988</td>\n",
              "    </tr>\n",
              "    <tr>\n",
              "      <th>2019-01-04</th>\n",
              "      <td>211.5</td>\n",
              "      <td>206.5</td>\n",
              "      <td>211.5</td>\n",
              "      <td>208.0</td>\n",
              "      <td>65943521.0</td>\n",
              "      <td>196.438858</td>\n",
              "    </tr>\n",
              "    <tr>\n",
              "      <th>2019-01-07</th>\n",
              "      <td>214.0</td>\n",
              "      <td>211.0</td>\n",
              "      <td>212.0</td>\n",
              "      <td>213.0</td>\n",
              "      <td>35442176.0</td>\n",
              "      <td>201.160965</td>\n",
              "    </tr>\n",
              "    <tr>\n",
              "      <th>2019-01-08</th>\n",
              "      <td>212.5</td>\n",
              "      <td>210.0</td>\n",
              "      <td>212.0</td>\n",
              "      <td>211.0</td>\n",
              "      <td>22694481.0</td>\n",
              "      <td>199.272125</td>\n",
              "    </tr>\n",
              "    <tr>\n",
              "      <th>...</th>\n",
              "      <td>...</td>\n",
              "      <td>...</td>\n",
              "      <td>...</td>\n",
              "      <td>...</td>\n",
              "      <td>...</td>\n",
              "      <td>...</td>\n",
              "    </tr>\n",
              "    <tr>\n",
              "      <th>2020-06-08</th>\n",
              "      <td>319.0</td>\n",
              "      <td>315.0</td>\n",
              "      <td>316.0</td>\n",
              "      <td>318.0</td>\n",
              "      <td>50302921.0</td>\n",
              "      <td>318.000000</td>\n",
              "    </tr>\n",
              "    <tr>\n",
              "      <th>2020-06-09</th>\n",
              "      <td>319.0</td>\n",
              "      <td>314.0</td>\n",
              "      <td>316.5</td>\n",
              "      <td>319.0</td>\n",
              "      <td>36417082.0</td>\n",
              "      <td>319.000000</td>\n",
              "    </tr>\n",
              "    <tr>\n",
              "      <th>2020-06-10</th>\n",
              "      <td>324.0</td>\n",
              "      <td>318.0</td>\n",
              "      <td>319.0</td>\n",
              "      <td>322.5</td>\n",
              "      <td>39984259.0</td>\n",
              "      <td>322.500000</td>\n",
              "    </tr>\n",
              "    <tr>\n",
              "      <th>2020-06-11</th>\n",
              "      <td>327.0</td>\n",
              "      <td>318.5</td>\n",
              "      <td>325.5</td>\n",
              "      <td>320.5</td>\n",
              "      <td>50104255.0</td>\n",
              "      <td>320.500000</td>\n",
              "    </tr>\n",
              "    <tr>\n",
              "      <th>2020-06-12</th>\n",
              "      <td>317.5</td>\n",
              "      <td>312.5</td>\n",
              "      <td>313.0</td>\n",
              "      <td>316.0</td>\n",
              "      <td>45992918.0</td>\n",
              "      <td>316.000000</td>\n",
              "    </tr>\n",
              "  </tbody>\n",
              "</table>\n",
              "<p>347 rows × 6 columns</p>\n",
              "</div>"
            ],
            "text/plain": [
              "             High    Low   Open  Close      Volume   Adj Close\n",
              "Date                                                          \n",
              "2019-01-02  226.5  219.0  226.5  219.5  32900482.0  207.299652\n",
              "2019-01-03  218.0  214.0  214.0  215.5  34087620.0  203.521988\n",
              "2019-01-04  211.5  206.5  211.5  208.0  65943521.0  196.438858\n",
              "2019-01-07  214.0  211.0  212.0  213.0  35442176.0  201.160965\n",
              "2019-01-08  212.5  210.0  212.0  211.0  22694481.0  199.272125\n",
              "...           ...    ...    ...    ...         ...         ...\n",
              "2020-06-08  319.0  315.0  316.0  318.0  50302921.0  318.000000\n",
              "2020-06-09  319.0  314.0  316.5  319.0  36417082.0  319.000000\n",
              "2020-06-10  324.0  318.0  319.0  322.5  39984259.0  322.500000\n",
              "2020-06-11  327.0  318.5  325.5  320.5  50104255.0  320.500000\n",
              "2020-06-12  317.5  312.5  313.0  316.0  45992918.0  316.000000\n",
              "\n",
              "[347 rows x 6 columns]"
            ]
          },
          "metadata": {
            "tags": []
          },
          "execution_count": 25
        }
      ]
    },
    {
      "cell_type": "code",
      "metadata": {
        "id": "lVolApQlcr9V",
        "colab_type": "code",
        "colab": {
          "base_uri": "https://localhost:8080/",
          "height": 282
        },
        "outputId": "1cae9c10-7e16-4b69-e298-f6b24c348626"
      },
      "source": [
        "df['Adj Close'].plot(kind='hist',bins=list(range(160,400,10)),rwidth=0.9)"
      ],
      "execution_count": 26,
      "outputs": [
        {
          "output_type": "execute_result",
          "data": {
            "text/plain": [
              "<matplotlib.axes._subplots.AxesSubplot at 0x7f10eb217a90>"
            ]
          },
          "metadata": {
            "tags": []
          },
          "execution_count": 26
        },
        {
          "output_type": "display_data",
          "data": {
            "image/png": "[encoded data removed]",
            "text/plain": [
              "<Figure size 432x288 with 1 Axes>"
            ]
          },
          "metadata": {
            "tags": [],
            "needs_background": "light"
          }
        }
      ]
    }
  ]
}